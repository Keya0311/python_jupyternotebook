{
 "cells": [
  {
   "cell_type": "code",
   "execution_count": null,
   "id": "ed56cf8c-e34a-4bfe-8e28-1440b727b5a5",
   "metadata": {},
   "outputs": [],
   "source": [
    "import PIL\n",
    "from PIL import Image\n",
    "from IPython.display import display\n",
    "file=\"C:/Users/user/OneDrive/Pictures/Screenshots/Acer_Wallpaper.jpg\"\n",
    "image=Image.open(file)"
   ]
  },
  {
   "cell_type": "code",
   "execution_count": null,
   "id": "3ac60776-8e65-44e5-bd06-cad62b0c40a3",
   "metadata": {},
   "outputs": [],
   "source": [
    "# Great, now lets check out a few more methods of the image library. First, we'll look at copy\n",
    "# And if you remember, we can do this using the built in python help() function\n",
    "help(image.copy)"
   ]
  },
  {
   "cell_type": "code",
   "execution_count": null,
   "id": "6a1aa660-1f70-41aa-bbac-031209fbe9a9",
   "metadata": {},
   "outputs": [],
   "source": [
    "# We can see that copy takes no arguments, and that the return object is an Image object itself. Now lets\n",
    "# look at save\n",
    "help(image.save)"
   ]
  },
  {
   "cell_type": "code",
   "execution_count": null,
   "id": "d5d3564d-f9af-4f05-88b5-9c3e71ea63ee",
   "metadata": {},
   "outputs": [],
   "source": [
    "image.save(\"C:/Users/user/OneDrive/Pictures/Screenshots/Acer_Wallpaper.png\")\n",
    "image=Image.open(\"C:/Users/user/OneDrive/Pictures/Screenshots/Acer_Wallpaper.png\")\n",
    "import inspect\n",
    "inspect.getmro(type(image))"
   ]
  },
  {
   "cell_type": "code",
   "execution_count": null,
   "id": "dd98b2b4-e438-45db-8197-5200caf26fa5",
   "metadata": {},
   "outputs": [],
   "source": [
    "# Indeed, this created a new file, which we could view by going to the Jupyter notebook file list by clicking\n",
    "# on the logo at the top of the browser, and we can see this new object is actually a PngImageFile object\n",
    "# For the purposes of this class the difference in image formats isn't so important, but it's nice that you can\n",
    "# explore how a library works using the functions of help(), dir() and getmro().\n",
    "#\n",
    "# The PILLOW library also has some nice image filters to add some effects. It does this through the filter()\n",
    "# function. The filter() function takes a Filter object, and those are all stored in the ImageFilter object.\n",
    "# Lets take a look.\n",
    "from PIL import ImageFilter\n",
    "help(ImageFilter)"
   ]
  },
  {
   "cell_type": "code",
   "execution_count": null,
   "id": "7af22d5a-8947-4793-991f-adeb34c3438c",
   "metadata": {},
   "outputs": [],
   "source": [
    "# There are a bunch of different filters here, but lets just try and apply the BLUR filter. Before we do this\n",
    "# we have to convert the image to RGB mode. This is a bit magical -- images like gifs are limited in how many\n",
    "# colors can be displayed at once based on the size of the pallet. This is similar to a painters pallet, which\n",
    "# only has so much room. This is actually a very old image file format. If we convert the image into something\n",
    "# more sophisticated we can apply these interesting image transforms. Sometimes learning a new library means\n",
    "# digging a bit deeper into the domain the library is about. We can convert the image using the convert()\n",
    "# function.\n",
    "image=image.convert(\"RGB\")\n",
    "display(image)\n",
    "blurred_image=image.filter(PIL.ImageFilter.BLUR)\n",
    "display(blurred_image)"
   ]
  },
  {
   "cell_type": "code",
   "execution_count": null,
   "id": "e3f45eab-0066-48ed-bfb5-ba50524a2026",
   "metadata": {},
   "outputs": [],
   "source": [
    "# Ok, let me show you one more function in the lecture, which is crop(). This removes portions of the image\n",
    "# except for the bounding box you describe. When you think of images, think of individual dots or pixels\n",
    "# which make up that image being lined up in a grid. You can actually see the number of pixels high the image\n",
    "# is and the width of the image \n",
    "print(\"{}x{}\".format(image.width, image.height))"
   ]
  },
  {
   "cell_type": "code",
   "execution_count": null,
   "id": "7ee87549-93af-4512-93bd-c62827be1953",
   "metadata": {},
   "outputs": [],
   "source": [
    "# This means that the image is 800 pixels wide (the X axis), and 450 pixels high (the Y axis). If we take a \n",
    "# look at the crop documentation we see that the first parameter to the function is a tuple which is the \n",
    "# left, upper, right, and lower values of the X/Y coordinates\n",
    "help(image.crop)"
   ]
  },
  {
   "cell_type": "code",
   "execution_count": null,
   "id": "28df3c10-5e64-433f-aa3d-cd3f8d6666b1",
   "metadata": {},
   "outputs": [],
   "source": [
    "# With PIL images, we define the bounding box using the upper left corner and the lower right corner. And\n",
    "# we count the number of pixels out from the upper left corner, which is 0,0. This might seem odd if you're\n",
    "# used to coordinate systems where you start in the lower left -- just remember that we define our box in the\n",
    "# same way we count out positions in the image.\n",
    "display(image.crop((400, 100, 3000, 800)))"
   ]
  },
  {
   "cell_type": "code",
   "execution_count": null,
   "id": "7a007bb7-569e-4e4a-9d77-133d1a693fdf",
   "metadata": {},
   "outputs": [],
   "source": [
    "# Of course crop(), like other functions, only returns a copy of the image, and doesn't change the image itself.\n",
    "# A strategy I like to do is try and draw the bounding box directly on the image, when I'm trying to line things\n",
    "# up. We can draw on images using the ImageDraw object. I'm not going to go into this in detail, but here's a \n",
    "# quick example of how. I might draw the bounding box in this case\n",
    "from PIL import ImageDraw\n",
    "drawing=ImageDraw.Draw(image)\n",
    "drawing.rectangle((50,50,3000,1500), fill =\"blue\", outline=\"red\")\n",
    "display(image)"
   ]
  },
  {
   "cell_type": "code",
   "execution_count": null,
   "id": "ec42c493-7558-416f-b88f-2d06148f5c78",
   "metadata": {},
   "outputs": [],
   "source": []
  }
 ],
 "metadata": {
  "kernelspec": {
   "display_name": "Python 3 (ipykernel)",
   "language": "python",
   "name": "python3"
  },
  "language_info": {
   "codemirror_mode": {
    "name": "ipython",
    "version": 3
   },
   "file_extension": ".py",
   "mimetype": "text/x-python",
   "name": "python",
   "nbconvert_exporter": "python",
   "pygments_lexer": "ipython3",
   "version": "3.11.4"
  }
 },
 "nbformat": 4,
 "nbformat_minor": 5
}
